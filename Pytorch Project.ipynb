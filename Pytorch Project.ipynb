{
 "cells": [
  {
   "cell_type": "markdown",
   "id": "3605d718",
   "metadata": {},
   "source": [
    "# Main Library"
   ]
  },
  {
   "cell_type": "code",
   "execution_count": 1,
   "id": "f7afec06",
   "metadata": {},
   "outputs": [],
   "source": [
    "# Reading Data & Visualization & Encoder\n",
    "import pandas as pd\n",
    "import numpy as np\n",
    "import matplotlib.pyplot as plt\n",
    "from sklearn.preprocessing import LabelEncoder, OneHotEncoder\n",
    "from sklearn.metrics import accuracy_score\n",
    "\n",
    "# Pytorch\n",
    "from  torch import Tensor\n",
    "from torch.nn import Linear, ReLU, Sigmoid, Softmax, Module, BCELoss, CrossEntropyLoss\n",
    "from torch.optim import SGD, Adam, NAdam\n",
    "from torch.utils.data import DataLoader, Dataset, random_split"
   ]
  },
  {
   "cell_type": "code",
   "execution_count": 2,
   "id": "ef462ee8",
   "metadata": {},
   "outputs": [],
   "source": [
    "class Fetch_Data():\n",
    "    def __init__(self, path):\n",
    "        data = pd.read_csv(path)\n",
    "        self.x = data.iloc[:, :-1].values\n",
    "        self.x = self.x.astype(\"float32\")\n",
    "        \n",
    "        self.y = data.iloc[:, -1].values\n",
    "        self.y = OneHotEncoder().fit_transform(self.y.reshape(-1, 1)).toarray()\n",
    "        self.y = self.y.astype(\"float32\")\n",
    "        \n",
    "    def __len__(self):\n",
    "        return len(self.y)\n",
    "    \n",
    "    def __getitem__(self, index):\n",
    "        return self.x[index], self.y[index]\n",
    "    \n",
    "    def split(self, ratio=0.5):\n",
    "        size1 = round(ratio * len(self.x))\n",
    "        size2 = len(self.x) - size1\n",
    "        \n",
    "        return random_split(self, [size1, size2])"
   ]
  },
  {
   "cell_type": "code",
   "execution_count": 3,
   "id": "94747282",
   "metadata": {},
   "outputs": [],
   "source": [
    "def Get_data(path, ratio):\n",
    "    model = Fetch_Data(path)\n",
    "    \n",
    "    train, test = model.split(ratio=ratio)\n",
    "    \n",
    "    train = DataLoader(train, shuffle=True, batch_size=50)\n",
    "    \n",
    "    test = DataLoader(test, shuffle=False, batch_size=1000)\n",
    "    \n",
    "    return train, test"
   ]
  },
  {
   "cell_type": "code",
   "execution_count": 4,
   "id": "1b48d889",
   "metadata": {},
   "outputs": [],
   "source": [
    "class NeuralNetwork(Module):\n",
    "    def __init__(self, input_size, output_size):\n",
    "        super(NeuralNetwork, self).__init__()\n",
    "        \n",
    "        self.layer1 = Linear(input_size, 128)\n",
    "        self.activation1 = ReLU()\n",
    "        \n",
    "        self.layer2 = Linear(128, 32)\n",
    "        self.activation2 = ReLU()\n",
    "        \n",
    "        self.layer3 = Linear(32, 8)\n",
    "        self.activation3 = ReLU()\n",
    "        \n",
    "        self.layer4 = Linear(8, output_size)\n",
    "        self.activation4 = Softmax(dim=-1)\n",
    "        \n",
    "        \n",
    "    def forward(self, data):\n",
    "        data = self.layer1(data)\n",
    "        data = self.activation1(data)\n",
    "        \n",
    "        data = self.layer2(data)\n",
    "        data = self.activation2(data)\n",
    "        \n",
    "        data = self.layer3(data)\n",
    "        data = self.activation3(data)\n",
    "        \n",
    "        data = self.layer4(data)\n",
    "        data = self.activation4(data)\n",
    "        \n",
    "        return data\n",
    "        \n",
    "        \n",
    "def trainingData(train_data, model):\n",
    "    loss_func = CrossEntropyLoss()\n",
    "    optamizer = Adam(model.parameters(), lr=0.01)\n",
    "    for epochs in range(100):\n",
    "        for  (x, y) in train_data:\n",
    "            optamizer.zero_grad()\n",
    "\n",
    "            result = model(x)\n",
    "            loss = loss_func(result, y)\n",
    "\n",
    "            loss.backward()\n",
    "            optamizer.step()\n",
    "            \n",
    "            \n",
    "def Evaluation(test_data, model):\n",
    "    accumelate_result = []\n",
    "    accumelate_y = []\n",
    "    for (x, y) in test_data:\n",
    "        result = model(x)\n",
    "        result = result.detach().numpy()\n",
    "        y = y.detach().numpy()\n",
    "        result = result.round()\n",
    "        \n",
    "        accumelate_result.append(result)\n",
    "        accumelate_y.append(y)\n",
    "        \n",
    "    accumelate_result = np.vstack(accumelate_result)\n",
    "    accumelate_y = np.vstack(accumelate_y)    \n",
    "\n",
    "    print(\"The Accuracy Score is \", round(accuracy_score(accumelate_y, accumelate_result), 2) * 100, \"%\")\n",
    "\n",
    "    \n",
    "    \n",
    "def get_class(value):\n",
    "    if value == 0:\n",
    "        return \"Iris-setosa\"\n",
    "    elif value == 1:\n",
    "        return \"Iris-versicolor\"\n",
    "    else:\n",
    "        return \"Iris-virginica\"\n",
    "    \n",
    "    \n",
    "def prediction(attr, model):\n",
    "    row = Tensor(attr)\n",
    "    result = model(row)\n",
    "    \n",
    "    return get_class(np.argmax(result.detach().numpy()))"
   ]
  },
  {
   "cell_type": "code",
   "execution_count": 5,
   "id": "f0317632",
   "metadata": {},
   "outputs": [
    {
     "name": "stdout",
     "output_type": "stream",
     "text": [
      "The Accuracy Score is  97.0 %\n"
     ]
    }
   ],
   "source": [
    "path = r\"D:\\Courses language programming\\5_Machine Learning\\Dataset For Machine Learning\\Training_Data_set_For_ML\\Iris.csv\"\n",
    "\n",
    "train, test = Get_data(path=path, ratio=0.8)\n",
    "\n",
    "input_size = len(train.dataset[0][0])\n",
    "output_size = len(train.dataset[0][1])\n",
    "model = NeuralNetwork(input_size, output_size)\n",
    "\n",
    "trainingData(train, model)\n",
    "\n",
    "Evaluation(test, model)"
   ]
  },
  {
   "cell_type": "code",
   "execution_count": 6,
   "id": "8c575625",
   "metadata": {},
   "outputs": [
    {
     "data": {
      "text/plain": [
       "'Iris-virginica'"
      ]
     },
     "execution_count": 6,
     "metadata": {},
     "output_type": "execute_result"
    }
   ],
   "source": [
    "prediction([6.7,3.1,5.6,2.4], model)"
   ]
  },
  {
   "cell_type": "code",
   "execution_count": null,
   "id": "160ea413",
   "metadata": {},
   "outputs": [],
   "source": []
  }
 ],
 "metadata": {
  "kernelspec": {
   "display_name": "Python 3 (ipykernel)",
   "language": "python",
   "name": "python3"
  },
  "language_info": {
   "codemirror_mode": {
    "name": "ipython",
    "version": 3
   },
   "file_extension": ".py",
   "mimetype": "text/x-python",
   "name": "python",
   "nbconvert_exporter": "python",
   "pygments_lexer": "ipython3",
   "version": "3.10.9"
  }
 },
 "nbformat": 4,
 "nbformat_minor": 5
}
