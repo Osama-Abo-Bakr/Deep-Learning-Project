{
 "cells": [
  {
   "cell_type": "markdown",
   "id": "5944d6ef",
   "metadata": {},
   "source": [
    "# Main Library"
   ]
  },
  {
   "cell_type": "code",
   "execution_count": 18,
   "id": "f32e15ab",
   "metadata": {},
   "outputs": [],
   "source": [
    "# Reading Data & Visualization & Preprocessing\n",
    "import pandas as pd\n",
    "import numpy as np\n",
    "import matplotlib.pyplot as plt\n",
    "from sklearn.preprocessing import OneHotEncoder\n",
    "from sklearn.metrics import accuracy_score\n",
    "\n",
    "# Build Model\n",
    "from torch import Tensor\n",
    "from torch.nn import Module, ReLU, Softmax, Linear, CrossEntropyLoss, Sigmoid, BCELoss\n",
    "from torch.optim import Adam, NAdam, SGD \n",
    "from torch.utils.data import DataLoader, Dataset, random_split"
   ]
  },
  {
   "cell_type": "code",
   "execution_count": 19,
   "id": "55179ab1",
   "metadata": {},
   "outputs": [],
   "source": [
    "# import torch\n",
    "# torch.cuda.is_available = lambda : False\n",
    "# # device = torch.device('cuda' if torch.cuda.is_available() else 'cpu')"
   ]
  },
  {
   "cell_type": "code",
   "execution_count": 20,
   "id": "ec411673",
   "metadata": {},
   "outputs": [],
   "source": [
    "class Fetch_Data():\n",
    "    def __init__(self, path):\n",
    "        data = pd.read_csv(path)\n",
    "        data = data.drop(columns=[\"id\", \"Unnamed: 32\"])\n",
    "        self.x = data.drop(columns=\"diagnosis\", axis=1).values\n",
    "        self.x = self.x.astype(\"float32\")\n",
    "        \n",
    "        self.y = data[\"diagnosis\"].values\n",
    "        self.y = OneHotEncoder().fit_transform(self.y.reshape(-1, 1)).toarray()\n",
    "        self.y = self.y.astype(\"float32\")\n",
    "        \n",
    "    def __len__(self):\n",
    "        return len(self.y)\n",
    "    \n",
    "    def __getitem__(self, index):\n",
    "        return self.x[index], self.y[index]\n",
    "    \n",
    "    def split_data(self, ratio=0.5):\n",
    "        size1 = round(len(self.x) * ratio)\n",
    "        size2 = len(self.x) - size1\n",
    "\n",
    "        return random_split(self, [size1, size2])\n",
    "    \n",
    "def Get_data(path, ratio=0.5):\n",
    "    obj = Fetch_Data(path)\n",
    "    \n",
    "    train, test = obj.split_data(ratio)\n",
    "    \n",
    "    train = DataLoader(train, shuffle=True, batch_size=40)\n",
    "    \n",
    "    test = DataLoader(test, shuffle=False, batch_size=1000)\n",
    "    \n",
    "    return train, test\n",
    "    "
   ]
  },
  {
   "cell_type": "code",
   "execution_count": 21,
   "id": "7d94257c",
   "metadata": {},
   "outputs": [],
   "source": [
    "class NeuralNetwork(Module):\n",
    "    def __init__(self, input_size, output_size):\n",
    "        super(NeuralNetwork, self).__init__()\n",
    "        \n",
    "        self.layer1 = Linear(input_size, 128)\n",
    "        self.activation1 = ReLU()\n",
    "                \n",
    "        self.layer2 = Linear(128, 32)\n",
    "        self.activation2 = ReLU()\n",
    "        \n",
    "        self.layer3 = Linear(32, 8)\n",
    "        self.activation3 = ReLU()\n",
    "        \n",
    "        self.layer4 = Linear(8, output_size)\n",
    "        self.activation4 = Sigmoid()\n",
    "        \n",
    "        \n",
    "    def forward(self, data):\n",
    "        data = self.layer1(data)\n",
    "        data = self.activation1(data)\n",
    "        \n",
    "        data = self.layer2(data)\n",
    "        data = self.activation2(data)\n",
    "        \n",
    "        data = self.layer3(data)\n",
    "        data = self.activation3(data)\n",
    "        \n",
    "        data = self.layer4(data)\n",
    "        data = self.activation4(data)\n",
    "        \n",
    "        return data\n",
    "    \n",
    "    \n",
    "def training_model(train_data, model):\n",
    "    loss_func = BCELoss()\n",
    "    optamizer = Adam(model.parameters(), lr=0.01)\n",
    "    \n",
    "    for opochs in range(100):\n",
    "        \n",
    "        for (x, y) in train_data:\n",
    "            optamizer.zero_grad()\n",
    "            \n",
    "            result = model(x)\n",
    "            loss = loss_func(result, y)\n",
    "            \n",
    "            loss.backward()\n",
    "            optamizer.step()\n",
    "            \n",
    "            \n",
    "\n",
    "def Evaluation(test_Data, model):\n",
    "    accumlate_result = []\n",
    "    accumlate_y = []\n",
    "    \n",
    "    for (x, y) in test_Data:\n",
    "        result = model(x)\n",
    "        \n",
    "        result = result.detach().numpy()\n",
    "        y = y.detach().numpy()\n",
    "        result = result.round()\n",
    "        \n",
    "        accumlate_result.append(result)\n",
    "        accumlate_y.append(y)\n",
    "        \n",
    "    accumlate_result = np.vstack(accumlate_result)\n",
    "    accumlate_y = np.vstack(accumlate_y)\n",
    "    \n",
    "    print(\"The Accuracy Score is \", round(accuracy_score(accumlate_y, accumlate_result), 2) * 100, \"%\")"
   ]
  },
  {
   "cell_type": "code",
   "execution_count": 24,
   "id": "f735b7de",
   "metadata": {},
   "outputs": [
    {
     "name": "stdout",
     "output_type": "stream",
     "text": [
      "The Accuracy Score is  96.0 %\n"
     ]
    }
   ],
   "source": [
    "train, test = Get_data(r\"D:\\Courses language programming\\5_Machine Learning\\Dataset For Machine Learning\\Breast Cancer\\data.csv\",\n",
    "                       ratio=0.7)\n",
    "input_size = len(train.dataset[0][0])\n",
    "output_size = len(train.dataset[0][1])\n",
    "\n",
    "model = NeuralNetwork(input_size, output_size)\n",
    "\n",
    "training_model(train, model)\n",
    "\n",
    "Evaluation(test, model)"
   ]
  },
  {
   "cell_type": "code",
   "execution_count": 25,
   "id": "9b00f18a",
   "metadata": {},
   "outputs": [
    {
     "name": "stdout",
     "output_type": "stream",
     "text": [
      "The Accuracy Score is  93.0 %\n"
     ]
    }
   ],
   "source": [
    "Evaluation(train, model)"
   ]
  },
  {
   "cell_type": "code",
   "execution_count": null,
   "id": "429d192d",
   "metadata": {},
   "outputs": [],
   "source": []
  }
 ],
 "metadata": {
  "kernelspec": {
   "display_name": "Python 3 (ipykernel)",
   "language": "python",
   "name": "python3"
  },
  "language_info": {
   "codemirror_mode": {
    "name": "ipython",
    "version": 3
   },
   "file_extension": ".py",
   "mimetype": "text/x-python",
   "name": "python",
   "nbconvert_exporter": "python",
   "pygments_lexer": "ipython3",
   "version": "3.10.9"
  }
 },
 "nbformat": 4,
 "nbformat_minor": 5
}
